{
 "cells": [
  {
   "cell_type": "markdown",
   "metadata": {},
   "source": [
    "# Move files with python from one folder (directory) to another\n",
    "# Delete empty folders in directory"
   ]
  },
  {
   "cell_type": "code",
   "execution_count": null,
   "metadata": {},
   "outputs": [],
   "source": [
    "# import libraries\n",
    "import os\n",
    "import shutil #library for copying, moving and deleting files and folders"
   ]
  },
  {
   "cell_type": "code",
   "execution_count": null,
   "metadata": {},
   "outputs": [],
   "source": [
    "#Simple code for moving files from one folder to another\n",
    "\n",
    "file_src = r\"place\\your\\source\\folder\\path\\here\"\n",
    "file_dest = r\"place\\your\\destination\\folder\\path\\here\" \n",
    "\n",
    "for folder in os.listdir(file_src):\n",
    "    full_path = file_src + \"\\\\\" + folder #get full path to folder\n",
    "    print(full_path)    \n",
    "    shutil.move(os.path.join(file_src, filename), os.path.join(file_dest, filename) #move file from source folder to\n",
    "                #destination folder. Override files in destination folder if same file\n",
    "    if len(os.listdir(full_path)) == 0: # Check if folder is empty\n",
    "        shutil.rmtree(full_path) # delete empty folder"
   ]
  },
  {
   "cell_type": "markdown",
   "metadata": {},
   "source": [
    "## The following code I have used for a specific usecase\n",
    "###### In a folder I had several duplicate folders. First I extracted the name of the folder. The I analyzed how many duplicates I had. Then I created a dictionary with name of the folder and as valua I saved the paths to the folders I wanted to merge {gallery_name:[folder1, folder2, etc.]}. Then I selected one folder where I moved all other content from duplicate folders to. The empty folders were then deleted."
   ]
  },
  {
   "cell_type": "code",
   "execution_count": null,
   "metadata": {},
   "outputs": [],
   "source": [
    "path = r\"path\\to\\folder\""
   ]
  },
  {
   "cell_type": "code",
   "execution_count": null,
   "metadata": {
    "scrolled": true
   },
   "outputs": [],
   "source": [
    "names_of_galleries = []\n",
    "\n",
    "# Extract name of Gallery\n",
    "for filename in os.listdir(path):\n",
    "    split = filename.split('_')\n",
    "    only_name_of_gallery = \" \".join(split[0:2])\n",
    "    print(only_name_of_gallery)    \n",
    "    full_path = path + \"\\\\\" + filename\n",
    "    names_of_galleries.append(only_name_of_gallery)\n",
    "    #print(full_path)    "
   ]
  },
  {
   "cell_type": "code",
   "execution_count": null,
   "metadata": {
    "scrolled": true
   },
   "outputs": [],
   "source": [
    "#Check for duplicate folders\n",
    "\n",
    "duplicates = [x for n, x in enumerate(names_of_galleries) if x in names_of_galleries[:n]]\n",
    "print(len(duplicates))\n",
    "for duplicate in duplicates:\n",
    "    print(duplicate)"
   ]
  },
  {
   "cell_type": "code",
   "execution_count": null,
   "metadata": {},
   "outputs": [],
   "source": [
    "# Create dictionary with name of gallery and duplicate folders {gallery_name:[folder1, folder2, etc.]}\n",
    "gallery_dict = {}\n",
    "\n",
    "for filename in os.listdir(path):\n",
    "    if only_name_of_gallery in duplicates:\n",
    "        full_path = path + \"\\\\\" + filename\n",
    "        if only_name_of_gallery not in names_dict.keys(): #if gallery not in dict, add\n",
    "            names_dict.update({only_name_of_gallery:[full_path]})\n",
    "        else: #if gallery exist then add duplicate folder as value\n",
    "            names_dict[only_name_of_gallery].append(full_path)"
   ]
  },
  {
   "cell_type": "code",
   "execution_count": null,
   "metadata": {},
   "outputs": [],
   "source": [
    "# Select source and destination paths to move files from one directory to another\n",
    "for k, v in gallery_dict.items():\n",
    "    source = v[0]\n",
    "    dest = v[1]\n",
    "    for filename in os.listdir(source):\n",
    "        if filename != \"Thumbs.db\":  \n",
    "            shutil.move(os.path.join(source, filename), os.path.join(dest, filename)) #move .jpg files from one folder \n",
    "            #to another. If destination folder contains same file, override \n",
    "        if len(os.listdir(full_path)) == 0: # Check if folder is empty\n",
    "            shutil.rmtree(full_path) # delete empty folder"
   ]
  },
  {
   "cell_type": "markdown",
   "metadata": {},
   "source": [
    "### Done!"
   ]
  }
 ],
 "metadata": {
  "kernelspec": {
   "display_name": "Python 3",
   "language": "python",
   "name": "python3"
  },
  "language_info": {
   "codemirror_mode": {
    "name": "ipython",
    "version": 3
   },
   "file_extension": ".py",
   "mimetype": "text/x-python",
   "name": "python",
   "nbconvert_exporter": "python",
   "pygments_lexer": "ipython3",
   "version": "3.7.1"
  }
 },
 "nbformat": 4,
 "nbformat_minor": 4
}
